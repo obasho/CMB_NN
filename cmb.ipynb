{
 "cells": [
  {
   "cell_type": "code",
   "execution_count": 1,
   "metadata": {},
   "outputs": [],
   "source": [
    "#installing pysm\n",
    "!pip install git+https://github.com/b-thorne/PySM_public.git\n"
   ]
  },
  {
   "cell_type": "code",
   "execution_count": 7,
   "metadata": {},
   "outputs": [],
   "source": [
    "import pysm\n",
    "from pysm.nominal import models\n",
    "import matplotlib.pyplot as plt\n",
    "import numpy as np\n",
    "import healpy as hp\n",
    "import pandas as pd\n",
    "from astropy import units as u"
   ]
  },
  {
   "cell_type": "code",
   "execution_count": 10,
   "metadata": {},
   "outputs": [
    {
     "ename": "",
     "evalue": "",
     "output_type": "error",
     "traceback": [
      "\u001b[1;31mThe Kernel crashed while executing code in the the current cell or a previous cell. Please review the code in the cell(s) to identify a possible cause of the failure. Click <a href='https://aka.ms/vscodeJupyterKernelCrash'>here</a> for more info. View Jupyter <a href='command:jupyter.viewOutput'>log</a> for further details."
     ]
    }
   ],
   "source": [
    "nside=1024\n",
    "r=2\n",
    "frequency=[85,95,145,155,220,270]\n",
    "d1_config = models(\"d1\", nside)\n",
    "s1_config = models(\"s1\", nside)\n",
    "f1_config = models(\"f1\", nside)\n",
    "cmb_config = models(\"c1\", nside)\n",
    "a1_config = models(\"a1\", nside)\n",
    "sky_config = {'dust' : d1_config, 'synchrotron' : s1_config,'ame':a1_config,'freefree':f1_config,'cmb':cmb_config}\n",
    "sky = pysm.Sky(sky_config)\n",
    "total_signal = sky.signal()(frequency)\n",
    "cmb_signal = sky.cmb(frequency)\n",
    "synchrotron_signal = sky.synchrotron(frequency)\n",
    "hp.mollview(cmb_signal[1, 0, :], title = \"Dust T @ 100 GHz\")\n",
    "hp.mollview(total_signal[0, 1, :], title = \"Total Q @ 10 GHz\")\n",
    "plt.show()"
   ]
  },
  {
   "cell_type": "code",
   "execution_count": 6,
   "metadata": {},
   "outputs": [],
   "source": [
    "instrument_config = {\n",
    "    'nside' : 1024,\n",
    "    'frequencies' : np.array([85,95,145,155,220,270])*u.GHz, #Expected in GHz\n",
    "    'use_smoothing' : True,\n",
    "    'beams' : np.array([25.5,22.7,25.5,22.7,13,13])*u.arcmin, #Expected in arcmin\n",
    "    'add_noise' : True,\n",
    "    'sens_I' : np.array([1.31,1.15,1.78,1.91,4.66,7.99])*u.uK_RJ, #Expected in units uK_RJ\n",
    "    'sens_P' : np.ones(N_freqs),\n",
    "    'noise_seed' : 1234,\n",
    "    'use_bandpass' : False,\n",
    "    'output_units' : 'uK_RJ',\n",
    "    'output_directory' : './',\n",
    "    'output_prefix' : 'test',\n",
    "}\n",
    "instrument = pysm.Instrument(instrument_config)\n",
    "instrument.observe(sky)"
   ]
  },
  {
   "cell_type": "code",
   "execution_count": 3,
   "metadata": {},
   "outputs": [
    {
     "name": "stdout",
     "output_type": "stream",
     "text": [
      "0\n",
      "1\n",
      "2\n",
      "3\n",
      "4\n",
      "5\n",
      "6\n",
      "7\n",
      "8\n",
      "9\n",
      "10\n",
      "11\n"
     ]
    }
   ],
   "source": [
    "def bin2nbit(binary,n):\n",
    "  while(len(binary)<n):\n",
    "    binary='0'+binary\n",
    "  return binary\n",
    "mp=np.zeros((12,1024,1024))\n",
    "m=hp.synfast(cl,1024)\n",
    "pixar=np.zeros(24)\n",
    "for k in range(12):\n",
    "  print(k)\n",
    "  kb=bin2nbit(bin(k)[2:],4)\n",
    "  for i in range(1024):\n",
    "    ib=bin2nbit(bin(i)[2:],10)\n",
    "    for j in range(1024):\n",
    "      jb=bin2nbit(bin(j)[2:],10)\n",
    "      PixBinNested=kb+ib+jb\n",
    "      PixNested=int(PixBinNested,2)\n",
    "      PixRing=hp.nest2ring(1024,PixNested)\n",
    "      mp[k,i,j]=m[PixRing]"
   ]
  }
 ],
 "metadata": {
  "kernelspec": {
   "display_name": "Python 3",
   "language": "python",
   "name": "python3"
  },
  "language_info": {
   "codemirror_mode": {
    "name": "ipython",
    "version": 3
   },
   "file_extension": ".py",
   "mimetype": "text/x-python",
   "name": "python",
   "nbconvert_exporter": "python",
   "pygments_lexer": "ipython3",
   "version": "3.10.12"
  }
 },
 "nbformat": 4,
 "nbformat_minor": 2
}
