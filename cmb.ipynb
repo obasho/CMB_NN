{
 "cells": [
  {
   "cell_type": "code",
   "execution_count": 1,
   "metadata": {},
   "outputs": [],
   "source": [
    "#installing pysm\n",
    "!pip install git+https://github.com/b-thorne/PySM_public.git\n"
   ]
  },
  {
   "cell_type": "code",
   "execution_count": 2,
   "metadata": {},
   "outputs": [],
   "source": [
    "import pysm\n",
    "from pysm.nominal import models\n",
    "import matplotlib.pyplot as plt\n",
    "import numpy as np\n",
    "import healpy as hp\n",
    "import pandas as pd\n",
    "from astropy import units as u"
   ]
  },
  {
   "cell_type": "code",
   "execution_count": null,
   "metadata": {},
   "outputs": [],
   "source": [
    "nside=1024\n",
    "r=2\n",
    "frequency=[85,95,145,155,220,270]\n",
    "d1_config = models(\"d1\", nside)\n",
    "s1_config = models(\"s1\", nside)\n",
    "f1_config = models(\"f1\", nside)\n",
    "cmb_config = models(\"c1\", nside)\n",
    "a1_config = models(\"a1\", nside)\n",
    "sky_config = {'dust' : d1_config, 'synchrotron' : s1_config,'ame':a1_config,'freefree':f1_config,'cmb':cmb_config}\n",
    "sky = pysm.Sky(sky_config)\n",
    "total_signal = sky.signal()(frequency)\n",
    "cmb_signal = sky.cmb(frequency)\n",
    "synchrotron_signal = sky.synchrotron(frequency)\n",
    "hp.mollview(cmb_signal[1, 0, :], title = \"Dust T @ 100 GHz\")\n",
    "hp.mollview(total_signal[0, 1, :], title = \"Total Q @ 10 GHz\")\n",
    "plt.show()"
   ]
  },
  {
   "cell_type": "code",
   "execution_count": 6,
   "metadata": {},
   "outputs": [],
   "source": [
    "instrument_config = {\n",
    "    'nside' : 1024,\n",
    "    'frequencies' : np.array([85,95,145,155,220,270]), #Expected in GHz\n",
    "    'use_smoothing' : True,\n",
    "    'beams' : np.array([25.5,22.7,25.5,22.7,13,13]), #Expected in arcmin\n",
    "    'add_noise' : True,\n",
    "    'sens_I' : np.array([1.31,1.15,1.78,1.91,4.66,7.99]), #Expected in units uK_RJ\n",
    "    'sens_P' : np.ones(6),\n",
    "    'noise_seed' : 1234,\n",
    "    'use_bandpass' : False,\n",
    "    'output_units' : 'uK_RJ',\n",
    "    'output_directory' : './',\n",
    "    'output_prefix' : 'test',\n",
    "}\n",
    "instrument = pysm.Instrument(instrument_config)\n",
    "instrument.observe(sky)"
   ]
  },
  {
   "cell_type": "code",
   "execution_count": null,
   "metadata": {},
   "outputs": [],
   "source": [
    "def bin2nbit(binary,n):\n",
    "  while(len(binary)<n):\n",
    "    binary='0'+binary\n",
    "  return binary\n",
    "\n",
    "mp=np.zeros((12,1024,1024))\n",
    "m=total_signal[3, 0, :]  # T at 155 GHz\n",
    "\n",
    "for k in range(12):\n",
    "  pixar='0'*20\n",
    "  kb=bin2nbit(bin(k)[2:],4)\n",
    "  pixar=np.array(list(kb+pixar))\n",
    "\n",
    "  for i in range(1024):\n",
    "    ib=np.array(list(bin2nbit(bin(i)[2:],10)))\n",
    "\n",
    "    for index, value in np.ndenumerate(ib):\n",
    "      print(index)\n",
    "      pixar[4+2*index[0]]=value\n",
    "\n",
    "    for j in range(1024):\n",
    "      jb=np.array(list(bin2nbit(bin(j)[2:],10)))\n",
    "\n",
    "      for index, value in np.ndenumerate(jb):\n",
    "        pixar[5+2*index[0]]=value\n",
    "        \n",
    "      PixNested=int(''.join([str(score) for score in pixar]),2)\n",
    "      PixRing=hp.nest2ring(1024,PixNested)\n",
    "      mp[k,i,j]=m[PixRing]"
   ]
  },
  {
   "cell_type": "code",
   "execution_count": null,
   "metadata": {},
   "outputs": [],
   "source": [
    "plt.imshow(mp[0])"
   ]
  }
 ],
 "metadata": {
  "kernelspec": {
   "display_name": "Python 3",
   "language": "python",
   "name": "python3"
  },
  "language_info": {
   "codemirror_mode": {
    "name": "ipython",
    "version": 3
   },
   "file_extension": ".py",
   "mimetype": "text/x-python",
   "name": "python",
   "nbconvert_exporter": "python",
   "pygments_lexer": "ipython3",
   "version": "3.10.12"
  }
 },
 "nbformat": 4,
 "nbformat_minor": 2
}
